{
 "cells": [
  {
   "cell_type": "code",
   "execution_count": 1,
   "metadata": {},
   "outputs": [],
   "source": [
    "import rpy2\n",
    "import scanpy as sc\n",
    "import numpy as np\n",
    "import os"
   ]
  },
  {
   "cell_type": "code",
   "execution_count": 2,
   "metadata": {},
   "outputs": [],
   "source": [
    "#-- set R HOME \n",
    "os.environ['R_HOME'] = '/home/nehard/anaconda3/envs/loompy/lib/R'"
   ]
  },
  {
   "cell_type": "code",
   "execution_count": 3,
   "metadata": {},
   "outputs": [],
   "source": [
    "%load_ext rpy2.ipython"
   ]
  },
  {
   "cell_type": "code",
   "execution_count": 4,
   "metadata": {},
   "outputs": [
    {
     "name": "stdout",
     "output_type": "stream",
     "text": [
      "2.9.4\n"
     ]
    }
   ],
   "source": [
    "print(rpy2.__version__)"
   ]
  },
  {
   "cell_type": "code",
   "execution_count": 5,
   "metadata": {},
   "outputs": [
    {
     "name": "stdout",
     "output_type": "stream",
     "text": [
      "scanpy==1.4.4.post1 anndata==0.6.22.post1 umap==0.3.10 numpy==1.17.2 scipy==1.3.1 pandas==0.25.1 scikit-learn==0.21.3 statsmodels==0.10.1 python-igraph==0.7.1 louvain==0.6.1\n"
     ]
    }
   ],
   "source": [
    "sc.settings.verbosity = 3\n",
    "sc.logging.print_versions()"
   ]
  },
  {
   "cell_type": "code",
   "execution_count": 6,
   "metadata": {},
   "outputs": [],
   "source": [
    "from rpy2.robjects import r\n"
   ]
  },
  {
   "cell_type": "code",
   "execution_count": 13,
   "metadata": {},
   "outputs": [
    {
     "data": {
      "text/plain": [
       "        Groups Batches Sample_ids Age Gender Names\n",
       "JB18001     HI      B1 HC_NCH_111 14M      M  HI_1\n",
       "JB18002     HI      B1 HC_NCH_114  6M      M  HI_2\n",
       "JB18003     HI      B1 HC_NCH_112 11M      F  HI_3\n",
       "JB18004     HI      B1 HC_NCH_116  3M      F  HI_4\n",
       "JB18005     HI      B1 HC_NCH_117  2M      F  HI_5\n",
       "JB18006     HI      B1 HC_NCH_118 10M      M  HI_6\n"
      ]
     },
     "metadata": {},
     "output_type": "display_data"
    }
   ],
   "source": [
    "%%R #-o test\n",
    "suppressPackageStartupMessages(library(dplyr))\n",
    "test <- read.table('../LifeSpan/61SamplesV2_Oct2019/meta_LifeSpan_61samples.txt', sep=\"\\t\", header =T, row.names=1)\n",
    "head(test)\n"
   ]
  },
  {
   "cell_type": "code",
   "execution_count": 9,
   "metadata": {},
   "outputs": [],
   "source": [
    "%%R\n",
    "suppressPackageStartupMessages(library(devtools))"
   ]
  },
  {
   "cell_type": "code",
   "execution_count": 10,
   "metadata": {},
   "outputs": [],
   "source": [
    "%%R\n",
    "suppressPackageStartupMessages(library(ggplot2))"
   ]
  },
  {
   "cell_type": "code",
   "execution_count": 26,
   "metadata": {},
   "outputs": [],
   "source": [
    "\n",
    "import pandas as pd\n",
    "df = pd.DataFrame({\n",
    "    'cups_of_coffee': [0, 1, 2, 3, 4, 5, 6, 7, 8, 9],\n",
    "    'productivity': [2, 5, 6, 8, 9, 8, 0, 1, 0, -1]\n",
    "})"
   ]
  },
  {
   "cell_type": "code",
   "execution_count": 27,
   "metadata": {},
   "outputs": [
    {
     "name": "stderr",
     "output_type": "stream",
     "text": [
      "/home/nehard/anaconda3/envs/loompy/lib/python3.6/site-packages/rpy2/robjects/pandas2ri.py:191: FutureWarning: from_items is deprecated. Please use DataFrame.from_dict(dict(items), ...) instead. DataFrame.from_dict(OrderedDict(items)) may be used to preserve the key order.\n",
      "  res = PandasDataFrame.from_items(items)\n"
     ]
    },
    {
     "data": {
      "image/png": "[encoded data removed]"
     },
     "metadata": {},
     "output_type": "display_data"
    }
   ],
   "source": [
    "%%R -i df -w 3 -h 3 --units in -r 200\n",
    "# import df from global environment\n",
    "# make default figure size 5 by 5 inches with 200 dpi resolution\n",
    "\n",
    "library(ggplot2)\n",
    "ggplot(df, aes(x=cups_of_coffee, y=productivity)) + geom_line()"
   ]
  },
  {
   "cell_type": "code",
   "execution_count": null,
   "metadata": {},
   "outputs": [],
   "source": []
  }
 ],
 "metadata": {
  "kernelspec": {
   "display_name": "loompy",
   "language": "python",
   "name": "loompy"
  },
  "language_info": {
   "codemirror_mode": {
    "name": "ipython",
    "version": 3
   },
   "file_extension": ".py",
   "mimetype": "text/x-python",
   "name": "python",
   "nbconvert_exporter": "python",
   "pygments_lexer": "ipython3",
   "version": "3.6.9"
  }
 },
 "nbformat": 4,
 "nbformat_minor": 4
}
